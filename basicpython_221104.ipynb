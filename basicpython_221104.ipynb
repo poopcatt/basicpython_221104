{
  "nbformat": 4,
  "nbformat_minor": 0,
  "metadata": {
    "colab": {
      "provenance": [],
      "include_colab_link": true
    },
    "kernelspec": {
      "name": "python3",
      "display_name": "Python 3"
    },
    "language_info": {
      "name": "python"
    }
  },
  "cells": [
    {
      "cell_type": "markdown",
      "metadata": {
        "id": "view-in-github",
        "colab_type": "text"
      },
      "source": [
        "<a href=\"https://colab.research.google.com/github/poopcatt/basicpython_221104/blob/main/basicpython_221104.ipynb\" target=\"_parent\"><img src=\"https://colab.research.google.com/assets/colab-badge.svg\" alt=\"Open In Colab\"/></a>"
      ]
    },
    {
      "cell_type": "markdown",
      "source": [
        "1. 왜 다음과 같은 수식이 오류를 발생시키는가? 올바르게 수정하라."
      ],
      "metadata": {
        "id": "0eVfbcsf06f-"
      }
    },
    {
      "cell_type": "code",
      "source": [
        "print('나는',12,'개의 사과를 먹었다.')"
      ],
      "metadata": {
        "colab": {
          "base_uri": "https://localhost:8080/"
        },
        "id": "E9GoG1EL1HJQ",
        "outputId": "a78885c7-e6bd-4d3c-df2d-e9b63f559b4c"
      },
      "execution_count": null,
      "outputs": [
        {
          "output_type": "stream",
          "name": "stdout",
          "text": [
            "나는 12 개의 사과를 먹었다.\n"
          ]
        }
      ]
    },
    {
      "cell_type": "markdown",
      "source": [
        "2. 다음과 같은 수식을 계산하면 결과는 무엇인가?\n"
      ],
      "metadata": {
        "id": "taFtUEVN1PHn"
      }
    },
    {
      "cell_type": "code",
      "source": [
        "print('apple' + 'grape')\n",
        "print('appIe' * 3)\n"
      ],
      "metadata": {
        "colab": {
          "base_uri": "https://localhost:8080/"
        },
        "id": "FMoJIWdT1UvM",
        "outputId": "bb807506-a0f5-4bc1-bc6d-83e55e14cb8f"
      },
      "execution_count": null,
      "outputs": [
        {
          "output_type": "stream",
          "name": "stdout",
          "text": [
            "applegrape\n",
            "appIeappIeappIe\n"
          ]
        }
      ]
    },
    {
      "cell_type": "markdown",
      "source": [
        "3. 다음과 같이 사용자가 입력한 문자열 중에서 처음 2글자와 마지막 2글자를 추출한 후에 이들을 합쳐서 출력해보자."
      ],
      "metadata": {
        "id": "QzPmw1ZX2AXL"
      }
    },
    {
      "cell_type": "code",
      "source": [
        "s=str(input(\"문자열을 입력하시오 :\"))\n",
        "print(s[0:2] + s[-2:])"
      ],
      "metadata": {
        "colab": {
          "base_uri": "https://localhost:8080/"
        },
        "id": "jElfaAd62Odp",
        "outputId": "0a7d0ea4-6585-45d2-bc99-e7489993dfea"
      },
      "execution_count": null,
      "outputs": [
        {
          "output_type": "stream",
          "name": "stdout",
          "text": [
            "문자열을 입력하시오 :python\n",
            "pyon\n"
          ]
        }
      ]
    },
    {
      "cell_type": "markdown",
      "source": [
        " 4. 다음과 같이 사용자가 입력한 문자열 뒤에 항상“하는 중\" 를 붙이는 프로그램을 작성해보자.\n"
      ],
      "metadata": {
        "id": "gjn0VpWt2bEd"
      }
    },
    {
      "cell_type": "code",
      "source": [
        "m=str(input(\"문자열을 입력하시오: \"))\n",
        "print(m+'하는 중')"
      ],
      "metadata": {
        "colab": {
          "base_uri": "https://localhost:8080/"
        },
        "id": "GvYpMHpC2tJD",
        "outputId": "95fad1f5-c972-4af8-f2d7-8192178d58ba"
      },
      "execution_count": null,
      "outputs": [
        {
          "output_type": "stream",
          "name": "stdout",
          "text": [
            "문자열을 입력하시오: 청소\n",
            "청소하는 중\n"
          ]
        }
      ]
    },
    {
      "cell_type": "markdown",
      "source": [
        "5. 사용자가 입력한 기호 안에 문자열을 삽입하려면 어떻게 해야하는가? 기호는 문자 2개로 이루어있다고 가정한다.\n"
      ],
      "metadata": {
        "id": "6d5Avhh422gD"
      }
    },
    {
      "cell_type": "code",
      "source": [
        "a=str(input(\"기호를 입력하시오: \"))\n",
        "b=str(input(\"중간에 삽입할 문자열을 입력하시오: \"))\n",
        "print(a[0]+b+a[1])"
      ],
      "metadata": {
        "colab": {
          "base_uri": "https://localhost:8080/"
        },
        "id": "5LNsEFps3Isn",
        "outputId": "a1f3d44a-4d16-42c2-f205-2e81ae2cc5f2"
      },
      "execution_count": null,
      "outputs": [
        {
          "output_type": "stream",
          "name": "stdout",
          "text": [
            "기호를 입력하시오: []\n",
            "중간에 삽입할 문자열을 입력하시오: python\n",
            "[python]\n"
          ]
        }
      ]
    },
    {
      "cell_type": "markdown",
      "source": [
        "6. 4개의 숫자가 들어 있는 리스트가 있다. 리스트 안의 숫자들을 꺼내서 합계를 계산하여\n",
        "출력하는 프로그램을 작성하라. 반복문은 사용하지 않는다. 리스트의 길이는 항상 4라고 가정한다.\n"
      ],
      "metadata": {
        "id": "XgMVr0IL3YTa"
      }
    },
    {
      "cell_type": "code",
      "source": [
        "list=[1,2,3,4]\n",
        "print('리스트 =',list)\n",
        "listsum=(list[0]+list[1]+list[2]+list[3])\n",
        "print('리스트 숫자들의 합 = ',listsum)"
      ],
      "metadata": {
        "colab": {
          "base_uri": "https://localhost:8080/"
        },
        "id": "_L2CZnPz3oWX",
        "outputId": "f17eec13-952b-4eb6-e807-e24523a6c9a6"
      },
      "execution_count": null,
      "outputs": [
        {
          "output_type": "stream",
          "name": "stdout",
          "text": [
            "리스트 = [1, 2, 3, 4]\n",
            "리스트 숫자들의 합 =  10\n"
          ]
        }
      ]
    },
    {
      "cell_type": "markdown",
      "source": [
        "7. 사용자가 입력하는 3가지 색상을 리스트에 저장하였다가 하나씩 꺼내서 그색상으로 채워진 원을 그리는 프로그램을 작성해보자. 반복문은 사용하지 않는다. 채워진 원을 그리려면 다음과 같은 문장들을 사용한다."
      ],
      "metadata": {
        "id": "YjaQn8CQbaxm"
      }
    },
    {
      "cell_type": "code",
      "source": [
        "import turtle\n",
        "\n",
        "colorlist=[]\n",
        "color=str(input(\"색상 #1을 입력하시오: \"))\n",
        "colorlist.append(color)\n",
        "color=str(input(\"색상 #2을 입력하시오: \"))\n",
        "colorlist.append(color)\n",
        "color=str(input(\"색상 #3을 입력하시오: \"))\n",
        "colorlist.append(color)\n",
        "print(colorlist)\n",
        "\n",
        "t=turtle.Turtle()\n",
        "t.shape(\"turtle\")\n",
        "t.fillcolor(colorlist[0])\n",
        "t.begin_fill()\n",
        "t.circle(50)\n",
        "t.end_fill()\n",
        "t.up()\n",
        "t.goto(100,0)\n",
        "t.down()\n",
        "t.fillcolor(colorlist[1])\n",
        "t.begin_fill()\n",
        "t.circle(50)\n",
        "t.end_fill()\n",
        "t.up()\n",
        "t.goto(200,0)\n",
        "t.down()\n",
        "t.fillcolor(colorlist[2])\n",
        "t.begin_fill()\n",
        "t.circle(50)\n",
        "t.end_fill()\n",
        "t.screen.exitonclick()"
      ],
      "metadata": {
        "id": "MiDx-PGobdg3"
      },
      "execution_count": null,
      "outputs": []
    },
    {
      "cell_type": "markdown",
      "source": [
        "8. 사용자가 입력하는 3개의 좌표(x, y)를 리스트에 저장한다. 이들 좌표를 꺼내서 거북이를 이동하는 프로그램을 작성해보자."
      ],
      "metadata": {
        "id": "EC-lvtPKb2At"
      }
    },
    {
      "cell_type": "code",
      "source": [
        "import turtle\n",
        "t=turtle.Turtle()\n",
        "t.shape(\"turtle\")\n",
        "x1= int(input(\"x1:\"))\n",
        "y1= int(input(\"y1:\"))\n",
        "x2= int(input(\"x2:\"))\n",
        "y2= int(input(\"y2:\"))\n",
        "x3= int(input(\"x3:\"))\n",
        "y3= int(input(\"y3:\"))\n",
        "\n",
        "list_x=[x1,x2,x3]\n",
        "list_y=[y1,y2,y3]\n",
        "t.goto(list_x[0],list_y[0])\n",
        "t.goto(list_x[1],list_y[1])\n",
        "t.goto(list_x[2],list_y[2])\n",
        "t.screen.exitonclick()"
      ],
      "metadata": {
        "id": "TBHOWp-5cb1W"
      },
      "execution_count": null,
      "outputs": []
    }
  ]
}